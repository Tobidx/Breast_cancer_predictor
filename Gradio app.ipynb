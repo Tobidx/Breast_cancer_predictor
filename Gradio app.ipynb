{
 "cells": [
  {
   "cell_type": "code",
   "execution_count": 6,
   "id": "98317d5c-03bf-4306-91c9-7140e1b4b60a",
   "metadata": {},
   "outputs": [
    {
     "name": "stdout",
     "output_type": "stream",
     "text": [
      "Running on local URL:  http://127.0.0.1:7860\n",
      "\n",
      "To create a public link, set `share=True` in `launch()`.\n"
     ]
    },
    {
     "data": {
      "text/html": [
       "<div><iframe src=\"http://127.0.0.1:7860/\" width=\"100%\" height=\"500\" allow=\"autoplay; camera; microphone; clipboard-read; clipboard-write;\" frameborder=\"0\" allowfullscreen></iframe></div>"
      ],
      "text/plain": [
       "<IPython.core.display.HTML object>"
      ]
     },
     "metadata": {},
     "output_type": "display_data"
    },
    {
     "data": {
      "text/plain": []
     },
     "execution_count": 6,
     "metadata": {},
     "output_type": "execute_result"
    },
    {
     "name": "stderr",
     "output_type": "stream",
     "text": [
      "/Users/ajibolaoluwatobiloba/anaconda3/lib/python3.11/site-packages/sklearn/base.py:493: UserWarning: X does not have valid feature names, but StandardScaler was fitted with feature names\n",
      "  warnings.warn(\n",
      "/Users/ajibolaoluwatobiloba/anaconda3/lib/python3.11/site-packages/sklearn/base.py:493: UserWarning: X does not have valid feature names, but StandardScaler was fitted with feature names\n",
      "  warnings.warn(\n",
      "/Users/ajibolaoluwatobiloba/anaconda3/lib/python3.11/site-packages/sklearn/base.py:493: UserWarning: X does not have valid feature names, but StandardScaler was fitted with feature names\n",
      "  warnings.warn(\n",
      "/Users/ajibolaoluwatobiloba/anaconda3/lib/python3.11/site-packages/sklearn/base.py:493: UserWarning: X does not have valid feature names, but StandardScaler was fitted with feature names\n",
      "  warnings.warn(\n",
      "/Users/ajibolaoluwatobiloba/anaconda3/lib/python3.11/site-packages/sklearn/base.py:493: UserWarning: X does not have valid feature names, but StandardScaler was fitted with feature names\n",
      "  warnings.warn(\n",
      "/Users/ajibolaoluwatobiloba/anaconda3/lib/python3.11/site-packages/sklearn/base.py:493: UserWarning: X does not have valid feature names, but StandardScaler was fitted with feature names\n",
      "  warnings.warn(\n"
     ]
    }
   ],
   "source": [
    "\n",
    "\n",
    "# app.py\n",
    "import gradio as gr\n",
    "import joblib\n",
    "import json\n",
    "import numpy as np\n",
    "\n",
    "# Load the model and scaler\n",
    "model = joblib.load('/Users/ajibolaoluwatobiloba/Desktop/personal project/BREAST CANCER/xgboost_breast_cancer__model.joblib')\n",
    "scaler = joblib.load('/Users/ajibolaoluwatobiloba/Desktop/personal project/BREAST CANCER/scalerr.joblib')\n",
    "\n",
    "# Load feature names\n",
    "with open('feature_names.json', 'r') as f:\n",
    "    feature_names = json.load(f)\n",
    "\n",
    "def predict_cancer(*features):\n",
    "    # Convert inputs to numpy array\n",
    "    input_data = np.array(features).reshape(1, -1)\n",
    "    \n",
    "    # Scale the input data\n",
    "    scaled_input = scaler.transform(input_data)\n",
    "    \n",
    "    # Make prediction\n",
    "    prediction_proba = model.predict_proba(scaled_input)[0, 1]\n",
    "    \n",
    "    # Apply threshold\n",
    "    prediction = \"Malignant\" if prediction_proba >= 0.4 else \"Benign\"\n",
    "    \n",
    "    return f\"Prediction: {prediction}\\nProbability of being malignant: {prediction_proba:.2f}\"\n",
    "\n",
    "# Create Gradio interface\n",
    "iface = gr.Interface(\n",
    "    fn=predict_cancer,\n",
    "    inputs=[gr.Number(label=name) for name in feature_names],\n",
    "    outputs=\"text\",\n",
    "    title=\"Breast Cancer Prediction\",\n",
    "    description=\"Enter the feature values to predict whether a breast mass is benign or malignant.\"\n",
    ")\n",
    "\n",
    "iface.launch()"
   ]
  },
  {
   "cell_type": "code",
   "execution_count": null,
   "id": "6e0de0d7-23d3-4a5b-b181-7b5aaa721af6",
   "metadata": {},
   "outputs": [],
   "source": []
  }
 ],
 "metadata": {
  "kernelspec": {
   "display_name": "Python 3 (ipykernel)",
   "language": "python",
   "name": "python3"
  },
  "language_info": {
   "codemirror_mode": {
    "name": "ipython",
    "version": 3
   },
   "file_extension": ".py",
   "mimetype": "text/x-python",
   "name": "python",
   "nbconvert_exporter": "python",
   "pygments_lexer": "ipython3",
   "version": "3.11.5"
  }
 },
 "nbformat": 4,
 "nbformat_minor": 5
}
