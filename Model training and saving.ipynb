{
 "cells": [
  {
   "cell_type": "code",
   "execution_count": 1,
   "id": "98459e43-87a5-4b8e-96ce-dc3254ca0276",
   "metadata": {},
   "outputs": [
    {
     "name": "stdout",
     "output_type": "stream",
     "text": [
      "Top 6 features based on correlation:\n",
      "['concave points_worst', 'perimeter_worst', 'concave points_mean', 'radius_worst', 'perimeter_mean', 'area_worst']\n",
      "Model, scaler, and feature names saved successfully.\n"
     ]
    }
   ],
   "source": [
    "# train_and_save_model.py\n",
    "import pandas as pd\n",
    "import numpy as np\n",
    "from sklearn.model_selection import train_test_split\n",
    "from sklearn.preprocessing import StandardScaler\n",
    "import xgboost as xgb\n",
    "from imblearn.over_sampling import SMOTE\n",
    "import joblib\n",
    "import json\n",
    "\n",
    "# Load the data\n",
    "data = pd.read_csv('/Users/ajibolaoluwatobiloba/Desktop/personal project/BREAST CANCER/breast-cancer.csv')\n",
    "\n",
    "# Separate features and target\n",
    "X = data.drop(['id', 'diagnosis'], axis=1)\n",
    "y = data['diagnosis'].map({'M': 1, 'B': 0})\n",
    "\n",
    "# Calculate correlation with target\n",
    "correlation = X.apply(lambda x: x.corr(y))\n",
    "correlation_sorted = correlation.abs().sort_values(ascending=False)\n",
    "\n",
    "# Select top 6 features based on correlation\n",
    "top_features = correlation_sorted.head(6).index.tolist()\n",
    "print(\"Top 6 features based on correlation:\")\n",
    "print(top_features)\n",
    "\n",
    "# Use top features for modeling\n",
    "X = data[top_features]\n",
    "\n",
    "# Split the data\n",
    "X_train, X_test, y_train, y_test = train_test_split(X, y, test_size=0.2, random_state=42, stratify=y)\n",
    "\n",
    "# Scale the features\n",
    "scaler = StandardScaler()\n",
    "X_train_scaled = scaler.fit_transform(X_train)\n",
    "X_test_scaled = scaler.transform(X_test)\n",
    "\n",
    "# Apply SMOTE\n",
    "smote = SMOTE(random_state=42)\n",
    "X_train_resampled, y_train_resampled = smote.fit_resample(X_train_scaled, y_train)\n",
    "\n",
    "# Train XGBoost model\n",
    "model = xgb.XGBClassifier(random_state=42, scale_pos_weight=2, eval_metric='auc', use_label_encoder=False)\n",
    "model.fit(X_train_resampled, y_train_resampled)\n",
    "\n",
    "# Save the model\n",
    "joblib.dump(model, 'xgboost_breast_cancer__model.joblib')\n",
    "\n",
    "# Save the scaler\n",
    "joblib.dump(scaler, 'scalerr.joblib')\n",
    "\n",
    "# Save the feature names\n",
    "with open('feature__names.json', 'w') as f:\n",
    "    json.dump(top_features, f)\n",
    "\n",
    "print(\"Model, scaler, and feature names saved successfully.\")"
   ]
  },
  {
   "cell_type": "code",
   "execution_count": null,
   "id": "7d97f35e-4332-45ea-91e7-7b351375ef48",
   "metadata": {},
   "outputs": [],
   "source": []
  }
 ],
 "metadata": {
  "kernelspec": {
   "display_name": "Python 3 (ipykernel)",
   "language": "python",
   "name": "python3"
  },
  "language_info": {
   "codemirror_mode": {
    "name": "ipython",
    "version": 3
   },
   "file_extension": ".py",
   "mimetype": "text/x-python",
   "name": "python",
   "nbconvert_exporter": "python",
   "pygments_lexer": "ipython3",
   "version": "3.11.5"
  }
 },
 "nbformat": 4,
 "nbformat_minor": 5
}
